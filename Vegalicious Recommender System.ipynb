{
 "cells": [
  {
   "attachments": {},
   "cell_type": "markdown",
   "metadata": {},
   "source": [
    "# Read The Data\n",
    "\n"
   ]
  },
  {
   "cell_type": "code",
   "execution_count": 1,
   "metadata": {},
   "outputs": [],
   "source": [
    "import tensorflow as tf\n",
    "import pandas as pd\n",
    "import string\n",
    "import re\n",
    "import numpy as np\n",
    "from sklearn.model_selection import train_test_split\n",
    "import matplotlib.pyplot as plt\n",
    "from matplotlib.ticker import PercentFormatter\n",
    "import nltk\n",
    "import spacy\n",
    "import sys\n",
    "\n",
    "from spacy.lang.en import English\n",
    "import en_core_web_sm\n",
    "from nltk.corpus import wordnet as wn\n",
    "from nltk.stem.wordnet import WordNetLemmatizer"
   ]
  },
  {
   "cell_type": "code",
   "execution_count": 6,
   "metadata": {},
   "outputs": [
    {
     "name": "stderr",
     "output_type": "stream",
     "text": [
      "[nltk_data] Downloading package stopwords to\n",
      "[nltk_data]     C:\\Users\\jasmine\\AppData\\Roaming\\nltk_data...\n",
      "[nltk_data]   Unzipping corpora\\stopwords.zip.\n",
      "[nltk_data] Downloading package wordnet to\n",
      "[nltk_data]     C:\\Users\\jasmine\\AppData\\Roaming\\nltk_data...\n"
     ]
    },
    {
     "data": {
      "text/plain": [
       "True"
      ]
     },
     "execution_count": 6,
     "metadata": {},
     "output_type": "execute_result"
    }
   ],
   "source": [
    "# Run this code for the first time, to install the libraries and download wordnet\n",
    "# %reset\n",
    "nltk.download('stopwords')\n",
    "nltk.download('wordnet')"
   ]
  },
  {
   "cell_type": "code",
   "execution_count": 2,
   "metadata": {},
   "outputs": [],
   "source": [
    "data_vegan = 'data/vegan_recipes_final.csv'\n",
    "\n",
    "data_vegan_df = pd.read_csv(data_vegan)"
   ]
  },
  {
   "cell_type": "code",
   "execution_count": 3,
   "metadata": {},
   "outputs": [
    {
     "data": {
      "text/html": [
       "<div>\n",
       "<style scoped>\n",
       "    .dataframe tbody tr th:only-of-type {\n",
       "        vertical-align: middle;\n",
       "    }\n",
       "\n",
       "    .dataframe tbody tr th {\n",
       "        vertical-align: top;\n",
       "    }\n",
       "\n",
       "    .dataframe thead th {\n",
       "        text-align: right;\n",
       "    }\n",
       "</style>\n",
       "<table border=\"1\" class=\"dataframe\">\n",
       "  <thead>\n",
       "    <tr style=\"text-align: right;\">\n",
       "      <th></th>\n",
       "      <th>directions</th>\n",
       "      <th>fat</th>\n",
       "      <th>date</th>\n",
       "      <th>categories</th>\n",
       "      <th>calories</th>\n",
       "      <th>desc</th>\n",
       "      <th>protein</th>\n",
       "      <th>rating</th>\n",
       "      <th>title</th>\n",
       "      <th>ingredients</th>\n",
       "      <th>sodium</th>\n",
       "      <th>id</th>\n",
       "    </tr>\n",
       "  </thead>\n",
       "  <tbody>\n",
       "    <tr>\n",
       "      <th>0</th>\n",
       "      <td>['Halve the potatoes, unpeeled, and cut them i...</td>\n",
       "      <td>19.0</td>\n",
       "      <td>2004-08-20T04:00:00.000Z</td>\n",
       "      <td>['Salad', 'Blender', 'Olive', 'Onion', 'Potato...</td>\n",
       "      <td>351.0</td>\n",
       "      <td>NaN</td>\n",
       "      <td>6.0</td>\n",
       "      <td>4.375</td>\n",
       "      <td>Green Bean, Red Onion, and Roast Potato Salad ...</td>\n",
       "      <td>['3 pounds red boiling potatoes', '2/3 cup oli...</td>\n",
       "      <td>79.0</td>\n",
       "      <td>137739</td>\n",
       "    </tr>\n",
       "    <tr>\n",
       "      <th>1</th>\n",
       "      <td>['Cut off and discard 1 inch from stem ends of...</td>\n",
       "      <td>10.0</td>\n",
       "      <td>2004-08-20T04:00:00.000Z</td>\n",
       "      <td>['Garlic', 'Side', 'Sauté', 'Vegetarian', 'Qui...</td>\n",
       "      <td>107.0</td>\n",
       "      <td>Active time: 25 min Start to finish: 30 min</td>\n",
       "      <td>4.0</td>\n",
       "      <td>4.375</td>\n",
       "      <td>Sauteed Broccoli Rabe</td>\n",
       "      <td>['2 lb broccoli rabe', '3 large garlic cloves,...</td>\n",
       "      <td>329.0</td>\n",
       "      <td>31490</td>\n",
       "    </tr>\n",
       "    <tr>\n",
       "      <th>2</th>\n",
       "      <td>['Cut peel and white pith from grapefruits and...</td>\n",
       "      <td>1.0</td>\n",
       "      <td>2004-08-20T04:00:00.000Z</td>\n",
       "      <td>['Salad', 'Breakfast', 'Brunch', 'No-Cook', 'Q...</td>\n",
       "      <td>191.0</td>\n",
       "      <td>NaN</td>\n",
       "      <td>3.0</td>\n",
       "      <td>4.375</td>\n",
       "      <td>Citrus Salad with Mint Sugar</td>\n",
       "      <td>['2 white grapefruits', '2 pink grapefruits', ...</td>\n",
       "      <td>4.0</td>\n",
       "      <td>112140</td>\n",
       "    </tr>\n",
       "    <tr>\n",
       "      <th>3</th>\n",
       "      <td>['Preheat oven to 475°F. Pierce eggplants with...</td>\n",
       "      <td>7.0</td>\n",
       "      <td>2004-08-20T04:00:00.000Z</td>\n",
       "      <td>['Condiment/Spread', 'Olive', 'Vegetable', 'Ro...</td>\n",
       "      <td>177.0</td>\n",
       "      <td>NaN</td>\n",
       "      <td>5.0</td>\n",
       "      <td>3.750</td>\n",
       "      <td>Roasted Eggplant and Olive Spread with Pita Br...</td>\n",
       "      <td>['3 1-pound eggplants', '3 6- to 7-inch-diamet...</td>\n",
       "      <td>116.0</td>\n",
       "      <td>59389</td>\n",
       "    </tr>\n",
       "    <tr>\n",
       "      <th>4</th>\n",
       "      <td>['Grind the parsley, sage, rosemary, and thyme...</td>\n",
       "      <td>12.0</td>\n",
       "      <td>2011-06-23T04:00:00.000Z</td>\n",
       "      <td>['Microwave', 'Bake', 'Vegetarian', 'Wheat/Glu...</td>\n",
       "      <td>224.0</td>\n",
       "      <td>Wheat Free</td>\n",
       "      <td>21.0</td>\n",
       "      <td>3.125</td>\n",
       "      <td>Scarborough Fair Tofu Burger</td>\n",
       "      <td>['1 tablespoon (2 g) dried parsley', '1 tables...</td>\n",
       "      <td>340.0</td>\n",
       "      <td>44061</td>\n",
       "    </tr>\n",
       "  </tbody>\n",
       "</table>\n",
       "</div>"
      ],
      "text/plain": [
       "                                          directions   fat   \n",
       "0  ['Halve the potatoes, unpeeled, and cut them i...  19.0  \\\n",
       "1  ['Cut off and discard 1 inch from stem ends of...  10.0   \n",
       "2  ['Cut peel and white pith from grapefruits and...   1.0   \n",
       "3  ['Preheat oven to 475°F. Pierce eggplants with...   7.0   \n",
       "4  ['Grind the parsley, sage, rosemary, and thyme...  12.0   \n",
       "\n",
       "                       date   \n",
       "0  2004-08-20T04:00:00.000Z  \\\n",
       "1  2004-08-20T04:00:00.000Z   \n",
       "2  2004-08-20T04:00:00.000Z   \n",
       "3  2004-08-20T04:00:00.000Z   \n",
       "4  2011-06-23T04:00:00.000Z   \n",
       "\n",
       "                                          categories  calories   \n",
       "0  ['Salad', 'Blender', 'Olive', 'Onion', 'Potato...     351.0  \\\n",
       "1  ['Garlic', 'Side', 'Sauté', 'Vegetarian', 'Qui...     107.0   \n",
       "2  ['Salad', 'Breakfast', 'Brunch', 'No-Cook', 'Q...     191.0   \n",
       "3  ['Condiment/Spread', 'Olive', 'Vegetable', 'Ro...     177.0   \n",
       "4  ['Microwave', 'Bake', 'Vegetarian', 'Wheat/Glu...     224.0   \n",
       "\n",
       "                                          desc  protein  rating   \n",
       "0                                          NaN      6.0   4.375  \\\n",
       "1  Active time: 25 min Start to finish: 30 min      4.0   4.375   \n",
       "2                                          NaN      3.0   4.375   \n",
       "3                                          NaN      5.0   3.750   \n",
       "4                                   Wheat Free     21.0   3.125   \n",
       "\n",
       "                                               title   \n",
       "0  Green Bean, Red Onion, and Roast Potato Salad ...  \\\n",
       "1                             Sauteed Broccoli Rabe    \n",
       "2                      Citrus Salad with Mint Sugar    \n",
       "3  Roasted Eggplant and Olive Spread with Pita Br...   \n",
       "4                      Scarborough Fair Tofu Burger    \n",
       "\n",
       "                                         ingredients  sodium      id  \n",
       "0  ['3 pounds red boiling potatoes', '2/3 cup oli...    79.0  137739  \n",
       "1  ['2 lb broccoli rabe', '3 large garlic cloves,...   329.0   31490  \n",
       "2  ['2 white grapefruits', '2 pink grapefruits', ...     4.0  112140  \n",
       "3  ['3 1-pound eggplants', '3 6- to 7-inch-diamet...   116.0   59389  \n",
       "4  ['1 tablespoon (2 g) dried parsley', '1 tables...   340.0   44061  "
      ]
     },
     "execution_count": 3,
     "metadata": {},
     "output_type": "execute_result"
    }
   ],
   "source": [
    "data_vegan_df.head()"
   ]
  },
  {
   "cell_type": "code",
   "execution_count": 4,
   "metadata": {},
   "outputs": [
    {
     "name": "stdout",
     "output_type": "stream",
     "text": [
      "number of rows: 1851\n",
      "number of columns: 12\n"
     ]
    }
   ],
   "source": [
    "num_rows = data_vegan_df.shape[0]\n",
    "num_cols = data_vegan_df.shape[1]\n",
    "\n",
    "print(\"number of rows:\", num_rows)\n",
    "print(\"number of columns:\", num_cols)"
   ]
  },
  {
   "cell_type": "code",
   "execution_count": 5,
   "metadata": {},
   "outputs": [
    {
     "name": "stdout",
     "output_type": "stream",
     "text": [
      "<class 'pandas.core.frame.DataFrame'>\n",
      "RangeIndex: 1851 entries, 0 to 1850\n",
      "Data columns (total 12 columns):\n",
      " #   Column       Non-Null Count  Dtype  \n",
      "---  ------       --------------  -----  \n",
      " 0   directions   1851 non-null   object \n",
      " 1   fat          1455 non-null   float64\n",
      " 2   date         1851 non-null   object \n",
      " 3   categories   1851 non-null   object \n",
      " 4   calories     1461 non-null   float64\n",
      " 5   desc         1346 non-null   object \n",
      " 6   protein      1458 non-null   float64\n",
      " 7   rating       1851 non-null   float64\n",
      " 8   title        1851 non-null   object \n",
      " 9   ingredients  1851 non-null   object \n",
      " 10  sodium       1461 non-null   float64\n",
      " 11  id           1851 non-null   int64  \n",
      "dtypes: float64(5), int64(1), object(6)\n",
      "memory usage: 173.7+ KB\n"
     ]
    }
   ],
   "source": [
    "data_vegan_df.info()"
   ]
  },
  {
   "attachments": {},
   "cell_type": "markdown",
   "metadata": {},
   "source": [
    "# Data Pre-Process"
   ]
  },
  {
   "attachments": {},
   "cell_type": "markdown",
   "metadata": {},
   "source": [
    "Data processing steps:\n",
    "\n",
    "* Check for missing values\n",
    "* Convert all words into lowercase\n",
    "* Check for imbalanced classes in dataset\n",
    "* Removal of punctuation"
   ]
  },
  {
   "cell_type": "code",
   "execution_count": 6,
   "metadata": {},
   "outputs": [],
   "source": [
    "# drop useless column \n",
    "cleaned_data_vegan = data_vegan_df.pop('date')\n",
    "cleaned_data_vegan = data_vegan_df.pop('desc')"
   ]
  },
  {
   "cell_type": "code",
   "execution_count": 7,
   "metadata": {},
   "outputs": [],
   "source": [
    "# drop NaN values in all rows\n",
    "cleaned_data_vegan = data_vegan_df.dropna(axis=0)"
   ]
  },
  {
   "cell_type": "code",
   "execution_count": 8,
   "metadata": {},
   "outputs": [],
   "source": [
    "# convert data into lowercase\n",
    "cleaned_data_vegan = cleaned_data_vegan.apply(lambda x: x.astype(str).str.lower() if x.dtype == 'object' else x)"
   ]
  },
  {
   "cell_type": "code",
   "execution_count": 9,
   "metadata": {},
   "outputs": [],
   "source": [
    "# removal of punctuation\n",
    "def remove_punctuation(text):\n",
    "    if isinstance(text, str):\n",
    "        return text.translate(str.maketrans('', '', string.punctuation))\n",
    "    return text\n",
    "\n",
    "cleaned_data_vegan = cleaned_data_vegan.applymap(remove_punctuation)\n"
   ]
  },
  {
   "cell_type": "code",
   "execution_count": 10,
   "metadata": {},
   "outputs": [],
   "source": [
    "# Check for imbalanced classes in dataset\n",
    "title_count = cleaned_data_vegan['title'].apply(lambda x: len(list(str(x).split())))\n",
    "title_unique_word_count = cleaned_data_vegan['title'].apply(lambda x: len(set(str(x).split())))\n",
    "title_digits = cleaned_data_vegan['title'].apply(lambda x: bool(re.search(r'\\d', str(x))))\n",
    "\n",
    "title_column_result = pd.concat([cleaned_data_vegan['title'], title_count, title_unique_word_count, title_digits], axis=1)\n",
    "title_column_result.columns = ['Title', 'Title Count', 'Title Unique Word Count', 'Title Contains Digits']"
   ]
  },
  {
   "cell_type": "code",
   "execution_count": 11,
   "metadata": {},
   "outputs": [
    {
     "data": {
      "text/html": [
       "<div>\n",
       "<style scoped>\n",
       "    .dataframe tbody tr th:only-of-type {\n",
       "        vertical-align: middle;\n",
       "    }\n",
       "\n",
       "    .dataframe tbody tr th {\n",
       "        vertical-align: top;\n",
       "    }\n",
       "\n",
       "    .dataframe thead th {\n",
       "        text-align: right;\n",
       "    }\n",
       "</style>\n",
       "<table border=\"1\" class=\"dataframe\">\n",
       "  <thead>\n",
       "    <tr style=\"text-align: right;\">\n",
       "      <th></th>\n",
       "      <th>Title</th>\n",
       "      <th>Title Count</th>\n",
       "      <th>Title Unique Word Count</th>\n",
       "      <th>Title Contains Digits</th>\n",
       "    </tr>\n",
       "  </thead>\n",
       "  <tbody>\n",
       "    <tr>\n",
       "      <th>0</th>\n",
       "      <td>green bean red onion and roast potato salad wi...</td>\n",
       "      <td>11</td>\n",
       "      <td>11</td>\n",
       "      <td>False</td>\n",
       "    </tr>\n",
       "    <tr>\n",
       "      <th>1</th>\n",
       "      <td>sauteed broccoli rabe</td>\n",
       "      <td>3</td>\n",
       "      <td>3</td>\n",
       "      <td>False</td>\n",
       "    </tr>\n",
       "    <tr>\n",
       "      <th>2</th>\n",
       "      <td>citrus salad with mint sugar</td>\n",
       "      <td>5</td>\n",
       "      <td>5</td>\n",
       "      <td>False</td>\n",
       "    </tr>\n",
       "    <tr>\n",
       "      <th>3</th>\n",
       "      <td>roasted eggplant and olive spread with pita br...</td>\n",
       "      <td>9</td>\n",
       "      <td>9</td>\n",
       "      <td>False</td>\n",
       "    </tr>\n",
       "    <tr>\n",
       "      <th>4</th>\n",
       "      <td>scarborough fair tofu burger</td>\n",
       "      <td>4</td>\n",
       "      <td>4</td>\n",
       "      <td>False</td>\n",
       "    </tr>\n",
       "  </tbody>\n",
       "</table>\n",
       "</div>"
      ],
      "text/plain": [
       "                                               Title  Title Count   \n",
       "0  green bean red onion and roast potato salad wi...           11  \\\n",
       "1                             sauteed broccoli rabe             3   \n",
       "2                      citrus salad with mint sugar             5   \n",
       "3  roasted eggplant and olive spread with pita br...            9   \n",
       "4                      scarborough fair tofu burger             4   \n",
       "\n",
       "   Title Unique Word Count  Title Contains Digits  \n",
       "0                       11                  False  \n",
       "1                        3                  False  \n",
       "2                        5                  False  \n",
       "3                        9                  False  \n",
       "4                        4                  False  "
      ]
     },
     "execution_count": 11,
     "metadata": {},
     "output_type": "execute_result"
    }
   ],
   "source": [
    "title_column_result.head(5)"
   ]
  },
  {
   "cell_type": "code",
   "execution_count": 12,
   "metadata": {},
   "outputs": [
    {
     "data": {
      "text/html": [
       "<div>\n",
       "<style scoped>\n",
       "    .dataframe tbody tr th:only-of-type {\n",
       "        vertical-align: middle;\n",
       "    }\n",
       "\n",
       "    .dataframe tbody tr th {\n",
       "        vertical-align: top;\n",
       "    }\n",
       "\n",
       "    .dataframe thead th {\n",
       "        text-align: right;\n",
       "    }\n",
       "</style>\n",
       "<table border=\"1\" class=\"dataframe\">\n",
       "  <thead>\n",
       "    <tr style=\"text-align: right;\">\n",
       "      <th></th>\n",
       "      <th>Title</th>\n",
       "      <th>Title Count</th>\n",
       "      <th>Title Unique Word Count</th>\n",
       "      <th>Title Contains Digits</th>\n",
       "    </tr>\n",
       "  </thead>\n",
       "  <tbody>\n",
       "    <tr>\n",
       "      <th>1845</th>\n",
       "      <td>fresh tarragon oil</td>\n",
       "      <td>3</td>\n",
       "      <td>3</td>\n",
       "      <td>False</td>\n",
       "    </tr>\n",
       "    <tr>\n",
       "      <th>1846</th>\n",
       "      <td>wilted red cabbage and bell pepper slaw</td>\n",
       "      <td>7</td>\n",
       "      <td>7</td>\n",
       "      <td>False</td>\n",
       "    </tr>\n",
       "    <tr>\n",
       "      <th>1847</th>\n",
       "      <td>roasted and raw carrot salad with avocado and ...</td>\n",
       "      <td>11</td>\n",
       "      <td>10</td>\n",
       "      <td>False</td>\n",
       "    </tr>\n",
       "    <tr>\n",
       "      <th>1848</th>\n",
       "      <td>4321 spice rub</td>\n",
       "      <td>3</td>\n",
       "      <td>3</td>\n",
       "      <td>True</td>\n",
       "    </tr>\n",
       "    <tr>\n",
       "      <th>1850</th>\n",
       "      <td>blueberry compote</td>\n",
       "      <td>2</td>\n",
       "      <td>2</td>\n",
       "      <td>False</td>\n",
       "    </tr>\n",
       "  </tbody>\n",
       "</table>\n",
       "</div>"
      ],
      "text/plain": [
       "                                                  Title  Title Count   \n",
       "1845                                fresh tarragon oil             3  \\\n",
       "1846           wilted red cabbage and bell pepper slaw             7   \n",
       "1847  roasted and raw carrot salad with avocado and ...           11   \n",
       "1848                                    4321 spice rub             3   \n",
       "1850                                 blueberry compote             2   \n",
       "\n",
       "      Title Unique Word Count  Title Contains Digits  \n",
       "1845                        3                  False  \n",
       "1846                        7                  False  \n",
       "1847                       10                  False  \n",
       "1848                        3                   True  \n",
       "1850                        2                  False  "
      ]
     },
     "execution_count": 12,
     "metadata": {},
     "output_type": "execute_result"
    }
   ],
   "source": [
    "title_column_result.tail(5)"
   ]
  },
  {
   "cell_type": "code",
   "execution_count": 13,
   "metadata": {},
   "outputs": [
    {
     "name": "stdout",
     "output_type": "stream",
     "text": [
      "number of rows: 1455\n",
      "number of columns: 10\n"
     ]
    }
   ],
   "source": [
    "num_rows = cleaned_data_vegan.shape[0]\n",
    "num_cols = cleaned_data_vegan.shape[1]\n",
    "\n",
    "print(\"number of rows:\", num_rows)\n",
    "print(\"number of columns:\", num_cols)"
   ]
  },
  {
   "cell_type": "code",
   "execution_count": 14,
   "metadata": {},
   "outputs": [
    {
     "data": {
      "text/html": [
       "<div>\n",
       "<style scoped>\n",
       "    .dataframe tbody tr th:only-of-type {\n",
       "        vertical-align: middle;\n",
       "    }\n",
       "\n",
       "    .dataframe tbody tr th {\n",
       "        vertical-align: top;\n",
       "    }\n",
       "\n",
       "    .dataframe thead th {\n",
       "        text-align: right;\n",
       "    }\n",
       "</style>\n",
       "<table border=\"1\" class=\"dataframe\">\n",
       "  <thead>\n",
       "    <tr style=\"text-align: right;\">\n",
       "      <th></th>\n",
       "      <th>directions</th>\n",
       "      <th>fat</th>\n",
       "      <th>categories</th>\n",
       "      <th>calories</th>\n",
       "      <th>protein</th>\n",
       "      <th>rating</th>\n",
       "      <th>title</th>\n",
       "      <th>ingredients</th>\n",
       "      <th>sodium</th>\n",
       "      <th>id</th>\n",
       "    </tr>\n",
       "  </thead>\n",
       "  <tbody>\n",
       "    <tr>\n",
       "      <th>0</th>\n",
       "      <td>halve the potatoes unpeeled and cut them into ...</td>\n",
       "      <td>19.0</td>\n",
       "      <td>salad blender olive onion potato side roast ve...</td>\n",
       "      <td>351.0</td>\n",
       "      <td>6.0</td>\n",
       "      <td>4.375</td>\n",
       "      <td>green bean red onion and roast potato salad wi...</td>\n",
       "      <td>3 pounds red boiling potatoes 23 cup olive oil...</td>\n",
       "      <td>79.0</td>\n",
       "      <td>137739</td>\n",
       "    </tr>\n",
       "    <tr>\n",
       "      <th>1</th>\n",
       "      <td>cut off and discard 1 inch from stem ends of b...</td>\n",
       "      <td>10.0</td>\n",
       "      <td>garlic side sauté vegetarian quick  easy vegan...</td>\n",
       "      <td>107.0</td>\n",
       "      <td>4.0</td>\n",
       "      <td>4.375</td>\n",
       "      <td>sauteed broccoli rabe</td>\n",
       "      <td>2 lb broccoli rabe 3 large garlic cloves thinl...</td>\n",
       "      <td>329.0</td>\n",
       "      <td>31490</td>\n",
       "    </tr>\n",
       "    <tr>\n",
       "      <th>2</th>\n",
       "      <td>cut peel and white pith from grapefruits and o...</td>\n",
       "      <td>1.0</td>\n",
       "      <td>salad breakfast brunch nocook quick  easy grap...</td>\n",
       "      <td>191.0</td>\n",
       "      <td>3.0</td>\n",
       "      <td>4.375</td>\n",
       "      <td>citrus salad with mint sugar</td>\n",
       "      <td>2 white grapefruits 2 pink grapefruits 6 large...</td>\n",
       "      <td>4.0</td>\n",
       "      <td>112140</td>\n",
       "    </tr>\n",
       "    <tr>\n",
       "      <th>3</th>\n",
       "      <td>preheat oven to 475°f pierce eggplants with fo...</td>\n",
       "      <td>7.0</td>\n",
       "      <td>condimentspread olive vegetable roast cocktail...</td>\n",
       "      <td>177.0</td>\n",
       "      <td>5.0</td>\n",
       "      <td>3.750</td>\n",
       "      <td>roasted eggplant and olive spread with pita br...</td>\n",
       "      <td>3 1pound eggplants 3 6 to 7inchdiameter pita b...</td>\n",
       "      <td>116.0</td>\n",
       "      <td>59389</td>\n",
       "    </tr>\n",
       "    <tr>\n",
       "      <th>4</th>\n",
       "      <td>grind the parsley sage rosemary and thyme into...</td>\n",
       "      <td>12.0</td>\n",
       "      <td>microwave bake vegetarian wheatglutenfree dinn...</td>\n",
       "      <td>224.0</td>\n",
       "      <td>21.0</td>\n",
       "      <td>3.125</td>\n",
       "      <td>scarborough fair tofu burger</td>\n",
       "      <td>1 tablespoon 2 g dried parsley 1 tablespoon 2 ...</td>\n",
       "      <td>340.0</td>\n",
       "      <td>44061</td>\n",
       "    </tr>\n",
       "  </tbody>\n",
       "</table>\n",
       "</div>"
      ],
      "text/plain": [
       "                                          directions   fat   \n",
       "0  halve the potatoes unpeeled and cut them into ...  19.0  \\\n",
       "1  cut off and discard 1 inch from stem ends of b...  10.0   \n",
       "2  cut peel and white pith from grapefruits and o...   1.0   \n",
       "3  preheat oven to 475°f pierce eggplants with fo...   7.0   \n",
       "4  grind the parsley sage rosemary and thyme into...  12.0   \n",
       "\n",
       "                                          categories  calories  protein   \n",
       "0  salad blender olive onion potato side roast ve...     351.0      6.0  \\\n",
       "1  garlic side sauté vegetarian quick  easy vegan...     107.0      4.0   \n",
       "2  salad breakfast brunch nocook quick  easy grap...     191.0      3.0   \n",
       "3  condimentspread olive vegetable roast cocktail...     177.0      5.0   \n",
       "4  microwave bake vegetarian wheatglutenfree dinn...     224.0     21.0   \n",
       "\n",
       "   rating                                              title   \n",
       "0   4.375  green bean red onion and roast potato salad wi...  \\\n",
       "1   4.375                             sauteed broccoli rabe    \n",
       "2   4.375                      citrus salad with mint sugar    \n",
       "3   3.750  roasted eggplant and olive spread with pita br...   \n",
       "4   3.125                      scarborough fair tofu burger    \n",
       "\n",
       "                                         ingredients  sodium      id  \n",
       "0  3 pounds red boiling potatoes 23 cup olive oil...    79.0  137739  \n",
       "1  2 lb broccoli rabe 3 large garlic cloves thinl...   329.0   31490  \n",
       "2  2 white grapefruits 2 pink grapefruits 6 large...     4.0  112140  \n",
       "3  3 1pound eggplants 3 6 to 7inchdiameter pita b...   116.0   59389  \n",
       "4  1 tablespoon 2 g dried parsley 1 tablespoon 2 ...   340.0   44061  "
      ]
     },
     "execution_count": 14,
     "metadata": {},
     "output_type": "execute_result"
    }
   ],
   "source": [
    "cleaned_data_vegan.head()"
   ]
  },
  {
   "cell_type": "code",
   "execution_count": 15,
   "metadata": {},
   "outputs": [
    {
     "name": "stdout",
     "output_type": "stream",
     "text": [
      "<class 'pandas.core.frame.DataFrame'>\n",
      "Index: 1455 entries, 0 to 1850\n",
      "Data columns (total 10 columns):\n",
      " #   Column       Non-Null Count  Dtype  \n",
      "---  ------       --------------  -----  \n",
      " 0   directions   1455 non-null   object \n",
      " 1   fat          1455 non-null   float64\n",
      " 2   categories   1455 non-null   object \n",
      " 3   calories     1455 non-null   float64\n",
      " 4   protein      1455 non-null   float64\n",
      " 5   rating       1455 non-null   float64\n",
      " 6   title        1455 non-null   object \n",
      " 7   ingredients  1455 non-null   object \n",
      " 8   sodium       1455 non-null   float64\n",
      " 9   id           1455 non-null   int64  \n",
      "dtypes: float64(5), int64(1), object(4)\n",
      "memory usage: 125.0+ KB\n"
     ]
    }
   ],
   "source": [
    "cleaned_data_vegan.info()"
   ]
  },
  {
   "attachments": {},
   "cell_type": "markdown",
   "metadata": {},
   "source": [
    "# Data Exploration"
   ]
  },
  {
   "cell_type": "code",
   "execution_count": 17,
   "metadata": {},
   "outputs": [
    {
     "data": {
      "image/png": "[encoded data removed]",
      "text/plain": [
       "<Figure size 1000x800 with 1 Axes>"
      ]
     },
     "metadata": {},
     "output_type": "display_data"
    }
   ],
   "source": [
    "fig, ax = plt.subplots(figsize=(10, 8))\n",
    "plt.title('Frequency Histogram')\n",
    "plt.ylabel('Frequency')\n",
    "plt.xlabel('Bins Center')\n",
    "\n",
    "ax.hist(cleaned_data_vegan.calories.to_numpy(),bins=[0,100,200,300,400,500,600,700,800,900,1000,1000,2000],linewidth=0.5, edgecolor=\"white\")\n",
    "plt.show()"
   ]
  },
  {
   "cell_type": "code",
   "execution_count": 18,
   "metadata": {},
   "outputs": [
    {
     "data": {
      "image/png": "[encoded data removed]",
      "text/plain": [
       "<Figure size 640x480 with 1 Axes>"
      ]
     },
     "metadata": {},
     "output_type": "display_data"
    }
   ],
   "source": [
    "import pylab \n",
    "import scipy.stats as stats\n",
    "\n",
    "stats.probplot(cleaned_data_vegan.calories.to_numpy(), dist=\"norm\", plot=pylab)\n",
    "pylab.show()"
   ]
  },
  {
   "cell_type": "code",
   "execution_count": 19,
   "metadata": {},
   "outputs": [
    {
     "data": {
      "image/png": "[encoded data removed]",
      "text/plain": [
       "<Figure size 640x480 with 1 Axes>"
      ]
     },
     "metadata": {},
     "output_type": "display_data"
    }
   ],
   "source": [
    "all_data = title_column_result.groupby('Title Count').count()\n",
    "\n",
    "plt.xlabel('Different lengths of title')\n",
    "plt.ylabel('Frequencies of title length')\n",
    "plt.xticks(fontsize=10)\n",
    "plt.title('Distribution of title length for entire dataset')\n",
    "bar_graph = plt.bar(all_data.index, all_data['Title'])\n",
    "bar_graph[8].set_color('r')\n",
    "\n",
    "plt.axvline(title_column_result['Title Count'].mean(), color='k', linestyle='dashed', linewidth=1)\n",
    "\n",
    "plt.show()"
   ]
  },
  {
   "attachments": {},
   "cell_type": "markdown",
   "metadata": {},
   "source": [
    "* difference in the length of recipe title is significant.\n",
    "* median length of recipe title is around 9 words\n",
    "* mean length of recipe title is around 4 words"
   ]
  },
  {
   "cell_type": "code",
   "execution_count": 20,
   "metadata": {},
   "outputs": [
    {
     "data": {
      "image/png": "[encoded data removed]",
      "text/plain": [
       "<Figure size 640x480 with 1 Axes>"
      ]
     },
     "metadata": {},
     "output_type": "display_data"
    },
    {
     "name": "stdout",
     "output_type": "stream",
     "text": [
      "Does not have Numbers in Title    1.0\n",
      "Has Numbers in Title              0.0\n",
      "Name: Title, dtype: float64\n"
     ]
    }
   ],
   "source": [
    "data_digit = title_column_result.groupby('Title Contains Digits').count()\n",
    "data_digit.index = ['Does not have Numbers in Title', 'Has Numbers in Title']\n",
    "\n",
    "plt.xlabel('Type of title')\n",
    "plt.ylabel('Frequencies of title')\n",
    "plt.xticks(fontsize=10)\n",
    "plt.title('Frequencies of title with Numbers vs No numbers')\n",
    "bar_graph = plt.bar(data_digit.index, data_digit['Title'] / data_digit['Title Count'].sum())\n",
    "bar_graph[1].set_color('r')\n",
    "plt.gca().yaxis.set_major_formatter(PercentFormatter(1))\n",
    "\n",
    "plt.show()\n",
    "\n",
    "print(round(data_digit['Title'] / data_digit['Title Count'].sum(), 2))"
   ]
  },
  {
   "attachments": {},
   "cell_type": "markdown",
   "metadata": {},
   "source": [
    "* difference in the use of numbers/statistics in recipe title is significant.\n",
    "* 100% recipe title uses text"
   ]
  },
  {
   "attachments": {},
   "cell_type": "markdown",
   "metadata": {},
   "source": [
    "# Identifying Topics in Dataset With LDA"
   ]
  },
  {
   "attachments": {},
   "cell_type": "markdown",
   "metadata": {},
   "source": [
    "Parameters:\n",
    "\n",
    "* the number of topics\n",
    "* the number of words per topic\n",
    "* the number of topic per doc"
   ]
  },
  {
   "attachments": {},
   "cell_type": "markdown",
   "metadata": {},
   "source": [
    "### Pre-Process"
   ]
  },
  {
   "attachments": {},
   "cell_type": "markdown",
   "metadata": {},
   "source": [
    "* Tokenization: Split the text into sentences and the sentences into words. Lowercase the words and remove punctuation.\n",
    "* Removal of stop words.\n",
    "* Removing Headlines that contains very few words. This helps to reduce the likelihood of headlines (that comprise of very but commonly-used words) matching together.\n",
    "* Lemmatization: words in third person are changed to first person and verbs in past and future tenses are changed into present.\n",
    "* Stemming: words are reduced to their root form."
   ]
  },
  {
   "cell_type": "code",
   "execution_count": 21,
   "metadata": {},
   "outputs": [],
   "source": [
    "nlp = en_core_web_sm.load()\n",
    "parser = English()\n",
    "en_stop = set(nltk.corpus.stopwords.words('english'))\n",
    "\n",
    "def tokenize(text):\n",
    "    \"\"\"this function is to tokenize the recipe title into a list of individual words\"\"\"\n",
    "    lda_tokens = []\n",
    "    tokens = parser(text)\n",
    "    for token in tokens:\n",
    "        if token.orth_.isspace():\n",
    "            continue\n",
    "        elif token.like_url:\n",
    "            lda_tokens.append('URL')\n",
    "        elif token.orth_.startswith('@'):\n",
    "            lda_tokens.append('SCREEN_NAME')\n",
    "        else:\n",
    "            lda_tokens.append(token.lower_)\n",
    "    return lda_tokens\n",
    "\n",
    "def get_lemma(word):\n",
    "    \"\"\"this function is to lemmatize the words in a recipe title into its root form\"\"\"\n",
    "    lemma = wn.morphy(word)\n",
    "    if lemma is None:\n",
    "        return word\n",
    "    else:\n",
    "        return lemma\n",
    "    \n",
    "def prepare_text_for_lda(text):\n",
    "    \"\"\"this function is to remove stopwords and lemmatize the words in a recipe title\"\"\"\n",
    "    tokens = tokenize(text)\n",
    "    tokens = [token for token in tokens if len(token) > 4]\n",
    "    tokens = [token for token in tokens if token not in en_stop]\n",
    "    tokens = [get_lemma(token) for token in tokens]\n",
    "    return tokens"
   ]
  },
  {
   "cell_type": "code",
   "execution_count": 22,
   "metadata": {},
   "outputs": [],
   "source": [
    "# create a list of tokens for each recipe title\n",
    "text_data = []\n",
    "for title in cleaned_data_vegan['title']:\n",
    "    tokens = prepare_text_for_lda(title)\n",
    "    text_data.append(tokens)"
   ]
  },
  {
   "cell_type": "code",
   "execution_count": 23,
   "metadata": {},
   "outputs": [],
   "source": [
    "# create a dictionary from the data\n",
    "from gensim import corpora\n",
    "import pickle\n",
    "\n",
    "dictionary = corpora.Dictionary(text_data)\n",
    "corpus = [dictionary.doc2bow(text) for text in text_data]\n",
    "pickle.dump(corpus, open('corpus.pkl', 'wb'))\n",
    "dictionary.save('dictionary.gensim')"
   ]
  },
  {
   "attachments": {},
   "cell_type": "markdown",
   "metadata": {},
   "source": [
    " Create a list of tokens for each recipe title"
   ]
  },
  {
   "cell_type": "code",
   "execution_count": 24,
   "metadata": {},
   "outputs": [
    {
     "data": {
      "text/plain": [
       "[(0, '0.041*\"compote\" + 0.035*\"sorbet\" + 0.031*\"coconut\" + 0.025*\"pickle\"'),\n",
       " (1, '0.047*\"salsa\" + 0.031*\"tomato\" + 0.029*\"salad\" + 0.026*\"fresh\"'),\n",
       " (2, '0.108*\"salad\" + 0.040*\"green\" + 0.036*\"onion\" + 0.027*\"fennel\"'),\n",
       " (3, '0.054*\"salad\" + 0.042*\"garlic\" + 0.039*\"roast\" + 0.022*\"syrup\"'),\n",
       " (4, '0.044*\"sauce\" + 0.040*\"vegetable\" + 0.037*\"roast\" + 0.025*\"pepper\"')]"
      ]
     },
     "execution_count": 24,
     "metadata": {},
     "output_type": "execute_result"
    }
   ],
   "source": [
    "# create a list of tokens for each recipe title\n",
    "import gensim\n",
    "\n",
    "NUM_TOPICS = [3, 5, 10]\n",
    "ldamodel = gensim.models.ldamodel.LdaModel(corpus, num_topics = NUM_TOPICS[1], id2word=dictionary, passes=15)\n",
    "ldamodel.save('model5.gensim')\n",
    "topics = ldamodel.print_topics(num_words=4)\n",
    "topics"
   ]
  },
  {
   "cell_type": "code",
   "execution_count": 25,
   "metadata": {},
   "outputs": [
    {
     "data": {
      "text/plain": [
       "[(0, '0.084*\"salad\" + 0.029*\"potato\" + 0.029*\"green\" + 0.019*\"vinaigrette\"'),\n",
       " (1, '0.037*\"salsa\" + 0.032*\"roast\" + 0.031*\"vegetable\" + 0.027*\"carrot\"'),\n",
       " (2, '0.039*\"salad\" + 0.030*\"compote\" + 0.021*\"fruit\" + 0.021*\"pickle\"')]"
      ]
     },
     "execution_count": 25,
     "metadata": {},
     "output_type": "execute_result"
    }
   ],
   "source": [
    "ldamodel = gensim.models.ldamodel.LdaModel(corpus, num_topics = 3, id2word=dictionary, passes=15)\n",
    "ldamodel.save('model3.gensim')\n",
    "topics = ldamodel.print_topics(num_words=4)\n",
    "topics"
   ]
  },
  {
   "cell_type": "code",
   "execution_count": 26,
   "metadata": {},
   "outputs": [
    {
     "data": {
      "text/plain": [
       "[(0, '0.064*\"eggplant\" + 0.049*\"zucchini\" + 0.046*\"sesame\" + 0.024*\"pepper\"'),\n",
       " (1, '0.072*\"roast\" + 0.054*\"vegetable\" + 0.048*\"pepper\" + 0.038*\"salad\"'),\n",
       " (2, '0.128*\"salad\" + 0.080*\"green\" + 0.066*\"onion\" + 0.042*\"vinaigrette\"'),\n",
       " (3, '0.103*\"salsa\" + 0.059*\"compote\" + 0.043*\"spice\" + 0.040*\"fruit\"'),\n",
       " (4, '0.058*\"cranberry\" + 0.043*\"fresh\" + 0.040*\"syrup\" + 0.038*\"orange\"'),\n",
       " (5, '0.044*\"arugula\" + 0.036*\"tomato\" + 0.033*\"olive\" + 0.030*\"lemon\"'),\n",
       " (6, '0.063*\"ginger\" + 0.035*\"sugar\" + 0.035*\"garlic\" + 0.030*\"potato\"'),\n",
       " (7, '0.131*\"sauce\" + 0.032*\"apricot\" + 0.031*\"raspberry\" + 0.024*\"saute\"'),\n",
       " (8, '0.093*\"potato\" + 0.071*\"roast\" + 0.045*\"garlic\" + 0.036*\"sweet\"'),\n",
       " (9, '0.194*\"salad\" + 0.036*\"tomato\" + 0.029*\"cucumber\" + 0.023*\"cabbage\"')]"
      ]
     },
     "execution_count": 26,
     "metadata": {},
     "output_type": "execute_result"
    }
   ],
   "source": [
    "ldamodel = gensim.models.ldamodel.LdaModel(corpus, num_topics = 10, id2word=dictionary, passes=15)\n",
    "ldamodel.save('model10.gensim')\n",
    "topics = ldamodel.print_topics(num_words=4)\n",
    "topics  "
   ]
  },
  {
   "cell_type": "code",
   "execution_count": 27,
   "metadata": {},
   "outputs": [],
   "source": [
    "# load the LDA model\n",
    "\n",
    "lda5 = gensim.models.ldamodel.LdaModel.load('model5.gensim')\n",
    "lda3 = gensim.models.ldamodel.LdaModel.load('model3.gensim')\n",
    "lda10 = gensim.models.ldamodel.LdaModel.load('model10.gensim')"
   ]
  },
  {
   "attachments": {},
   "cell_type": "markdown",
   "metadata": {},
   "source": [
    " Print out the topics for each model"
   ]
  },
  {
   "cell_type": "code",
   "execution_count": 28,
   "metadata": {},
   "outputs": [
    {
     "name": "stdout",
     "output_type": "stream",
     "text": [
      "For LDA model with 5 clusters:\n",
      "\n",
      "For recipe title:\n",
      "[(0, 0.025002947), (1, 0.025160065), (2, 0.64694154), (3, 0.27745035), (4, 0.02544513)]\n"
     ]
    }
   ],
   "source": [
    "from numpy import mean\n",
    "\n",
    "recipe_title = list(title_column_result['Title'] == 1)\n",
    "tuple_list = []\n",
    "\n",
    "for title in recipe_title:\n",
    "    recipe_title_lda = lda5[corpus[title]]\n",
    "    for tuple in recipe_title_lda:\n",
    "        tuple_list.append(tuple)\n",
    "\n",
    "print('For LDA model with 5 clusters:')\n",
    "print('\\nFor recipe title:')\n",
    "print([(uk, mean([vv for kk, vv in tuple_list if kk == uk])) for uk in set([k for k, v in tuple_list])])"
   ]
  },
  {
   "cell_type": "code",
   "execution_count": 29,
   "metadata": {},
   "outputs": [
    {
     "name": "stdout",
     "output_type": "stream",
     "text": [
      "For LDA model with 3 clusters:\n",
      "\n",
      "For recipe title:\n",
      "[(0, 0.9131674), (1, 0.043943442), (2, 0.04288921)]\n"
     ]
    }
   ],
   "source": [
    "recipe_title = list(title_column_result['Title'] == 1)\n",
    "tuple_list = []\n",
    "\n",
    "for title in recipe_title:\n",
    "    recipe_title_lda = lda3[corpus[title]]\n",
    "    for tuple in recipe_title_lda:\n",
    "        tuple_list.append(tuple)\n",
    "\n",
    "print('For LDA model with 3 clusters:')\n",
    "print('\\nFor recipe title:')\n",
    "print([(uk, mean([vv for kk, vv in tuple_list if kk == uk])) for uk in set([k for k, v in tuple_list])])"
   ]
  },
  {
   "cell_type": "code",
   "execution_count": 30,
   "metadata": {},
   "outputs": [
    {
     "name": "stdout",
     "output_type": "stream",
     "text": [
      "For LDA model with 10 clusters:\n",
      "\n",
      "For recipe title:\n",
      "[(0, 0.012500381), (1, 0.012502139), (2, 0.5045485), (3, 0.012500063), (4, 0.012500296), (5, 0.012500331), (6, 0.012500663), (7, 0.0125001455), (8, 0.39544532), (9, 0.0125021655)]\n"
     ]
    }
   ],
   "source": [
    "recipe_title = list(title_column_result['Title'] == 1)\n",
    "tuple_list = []\n",
    "\n",
    "for title in recipe_title:\n",
    "    recipe_title_lda = lda10[corpus[title]]\n",
    "    for tuple in recipe_title_lda:\n",
    "        tuple_list.append(tuple)\n",
    "\n",
    "print('For LDA model with 10 clusters:')\n",
    "print('\\nFor recipe title:')\n",
    "print([(uk, mean([vv for kk, vv in tuple_list if kk == uk])) for uk in set([k for k, v in tuple_list])])"
   ]
  },
  {
   "attachments": {},
   "cell_type": "markdown",
   "metadata": {},
   "source": [
    "Summary\n",
    "* LDA 5: represents a specific theme or style of salad \n",
    "* LDA 3: different styles or variations of salad recipes\n",
    "* LDA 10: diverse range of recipe variations, each with its own unique combination of ingredients and flavors"
   ]
  },
  {
   "attachments": {},
   "cell_type": "markdown",
   "metadata": {},
   "source": [
    "# Build The models With Deep Learning"
   ]
  },
  {
   "attachments": {},
   "cell_type": "markdown",
   "metadata": {},
   "source": [
    "* RNN with Gated Recurrent Units (with Lasso Regularization, Dropout, Batch Normalization)\n",
    "* RNN with Gated Recurrent Units (with Ridge Regularization, Dropout, Batch Normalization)\n",
    "* RNN with Long Short Term Memory Units (with Lasso Regularization, Dropout, Batch Normalization)\n",
    "* RNN with Long Short Term Memory Units (with Ridge Regularization, Dropout, Batch Normalization)\n",
    "* CNN with Conv1D\n",
    "* Combination of CNN-RNN (LSTM)"
   ]
  },
  {
   "attachments": {},
   "cell_type": "markdown",
   "metadata": {},
   "source": [
    "### RNN With GRU"
   ]
  },
  {
   "cell_type": "code",
   "execution_count": 16,
   "metadata": {},
   "outputs": [],
   "source": [
    "train_data, test_data = train_test_split(cleaned_data_vegan['title'], test_size=0.2, random_state=42)"
   ]
  },
  {
   "cell_type": "code",
   "execution_count": 17,
   "metadata": {},
   "outputs": [
    {
     "name": "stdout",
     "output_type": "stream",
     "text": [
      "train set:  1164\n",
      "test set:  291\n"
     ]
    }
   ],
   "source": [
    "print(\"train set: \", len(train_data))\n",
    "print(\"test set: \", len(test_data))"
   ]
  },
  {
   "cell_type": "code",
   "execution_count": 18,
   "metadata": {},
   "outputs": [],
   "source": [
    "from tensorflow.keras.preprocessing.text import Tokenizer\n",
    "from tensorflow.keras.preprocessing.sequence import pad_sequences\n",
    "\n",
    "tokenizer = Tokenizer()\n",
    "tokenizer.fit_on_texts(train_data)\n",
    "training_sequences = tokenizer.texts_to_sequences(train_data)\n",
    "testing_sequences = tokenizer.texts_to_sequences(test_data)\n",
    "\n",
    "vocab_size = len(tokenizer.word_index) + 1\n",
    "max_length = max(len(seq) for seq in training_sequences)\n",
    "\n",
    "train_padded = pad_sequences(training_sequences, maxlen=max_length, padding='post')\n",
    "testing_padded = pad_sequences(testing_sequences, maxlen=max_length, padding='post')\n",
    "\n",
    "embedding_dim = 100\n"
   ]
  },
  {
   "cell_type": "code",
   "execution_count": 44,
   "metadata": {},
   "outputs": [
    {
     "name": "stdout",
     "output_type": "stream",
     "text": [
      "Model: \"model_13\"\n",
      "_________________________________________________________________\n",
      " Layer (type)                Output Shape              Param #   \n",
      "=================================================================\n",
      " input_8 (InputLayer)        [(None, 14)]              0         \n",
      "                                                                 \n",
      " dense_70 (Dense)            (None, 256)               3840      \n",
      "                                                                 \n",
      " dense_71 (Dense)            (None, 128)               32896     \n",
      "                                                                 \n",
      " dense_72 (Dense)            (None, 64)                8256      \n",
      "                                                                 \n",
      " dense_73 (Dense)            (None, 32)                2080      \n",
      "                                                                 \n",
      " dense_74 (Dense)            (None, 16)                528       \n",
      "                                                                 \n",
      " dense_75 (Dense)            (None, 32)                544       \n",
      "                                                                 \n",
      " dense_76 (Dense)            (None, 64)                2112      \n",
      "                                                                 \n",
      " dense_77 (Dense)            (None, 128)               8320      \n",
      "                                                                 \n",
      " dense_78 (Dense)            (None, 256)               33024     \n",
      "                                                                 \n",
      " dense_79 (Dense)            (None, 14)                3598      \n",
      "                                                                 \n",
      "=================================================================\n",
      "Total params: 95,198\n",
      "Trainable params: 95,198\n",
      "Non-trainable params: 0\n",
      "_________________________________________________________________\n"
     ]
    }
   ],
   "source": [
    "import tensorflow as tf\n",
    "from tensorflow.keras.layers import Input, Dense\n",
    "from tensorflow.keras.models import Model\n",
    "from tensorflow.keras.layers import Embedding\n",
    "from keras.optimizers import Adam\n",
    "\n",
    "\n",
    "# Define the autoencoder model architecture\n",
    "input_dim = max_length\n",
    "vocab_size = len(tokenizer.word_index) + 1\n",
    "embedding_dim = 100\n",
    "\n",
    "\n",
    "input_layer = Input(shape=(input_dim,))\n",
    "# embedding_layer = Embedding(input_dim=vocab_size, output_dim=embedding_dim)(input_layer)\n",
    "h_encoded = Dense(256, activation='relu')(input_layer)\n",
    "h_encoded = Dense(128, activation='relu')(h_encoded)\n",
    "h_encoded = Dense(64, activation='relu')(h_encoded)\n",
    "h_encoded = Dense(32, activation='relu')(h_encoded)\n",
    "\n",
    "encoded = Dense(16, activation='relu')(h_encoded)\n",
    "\n",
    "h_decoded = Dense(32, activation='relu')(encoded)\n",
    "h_decoded = Dense(64, activation='relu')(h_decoded)\n",
    "h_decoded = Dense(128, activation='relu')(h_decoded)\n",
    "h_decoded = Dense(256, activation='relu')(h_decoded)\n",
    "output_layer = Dense(input_dim, activation='sigmoid')(h_decoded)\n",
    "\n",
    "autoencoder = Model(inputs=input_layer, outputs=output_layer)\n",
    "encoder = Model(inputs=input_layer, outputs=encoded)\n",
    "adam = Adam(learning_rate=0.001)\n",
    "autoencoder.compile(optimizer=adam, loss='binary_crossentropy', metrics=['accuracy'])\n",
    "autoencoder.summary()\n"
   ]
  },
  {
   "cell_type": "code",
   "execution_count": 37,
   "metadata": {},
   "outputs": [],
   "source": [
    "from tensorflow.keras.callbacks import ModelCheckpoint, EarlyStopping\n",
    "\n",
    "# Define callbacks\n",
    "checkpoint = ModelCheckpoint('recommender_system.h5', save_best_only=True, save_weights_only=True, monitor='val_loss', mode='min', verbose=1)\n",
    "early_stopping = EarlyStopping(monitor='val_loss', patience=10, mode='min', verbose=1)"
   ]
  },
  {
   "cell_type": "code",
   "execution_count": 45,
   "metadata": {},
   "outputs": [
    {
     "name": "stdout",
     "output_type": "stream",
     "text": [
      "Epoch 1/100\n",
      "15/19 [======================>.......] - ETA: 0s - loss: -5931.2856 - accuracy: 0.3354\n",
      "Epoch 1: val_loss improved from inf to -60633.73047, saving model to recommender_system.h5\n",
      "19/19 [==============================] - 2s 39ms/step - loss: -12141.5674 - accuracy: 0.3376 - val_loss: -60633.7305 - val_accuracy: 0.4261\n",
      "Epoch 2/100\n",
      "14/19 [=====================>........] - ETA: 0s - loss: -675096.4375 - accuracy: 0.3717\n",
      "Epoch 2: val_loss improved from -60633.73047 to -5025944.00000, saving model to recommender_system.h5\n",
      "19/19 [==============================] - 0s 16ms/step - loss: -1200372.8750 - accuracy: 0.3823 - val_loss: -5025944.0000 - val_accuracy: 0.4261\n",
      "Epoch 3/100\n",
      "16/19 [========================>.....] - ETA: 0s - loss: -53237944.0000 - accuracy: 0.3857\n",
      "Epoch 3: val_loss improved from -5025944.00000 to -216604496.00000, saving model to recommender_system.h5\n",
      "19/19 [==============================] - 0s 22ms/step - loss: -72743808.0000 - accuracy: 0.3823 - val_loss: -216604496.0000 - val_accuracy: 0.4261\n",
      "Epoch 4/100\n",
      "17/19 [=========================>....] - ETA: 0s - loss: -1786726528.0000 - accuracy: 0.3860\n",
      "Epoch 4: val_loss improved from -216604496.00000 to -5389696000.00000, saving model to recommender_system.h5\n",
      "19/19 [==============================] - 0s 17ms/step - loss: -2001019904.0000 - accuracy: 0.3823 - val_loss: -5389696000.0000 - val_accuracy: 0.4261\n",
      "Epoch 5/100\n",
      "15/19 [======================>.......] - ETA: 0s - loss: -30666608640.0000 - accuracy: 0.3719\n",
      "Epoch 5: val_loss improved from -5389696000.00000 to -86095159296.00000, saving model to recommender_system.h5\n",
      "19/19 [==============================] - 1s 29ms/step - loss: -40866238464.0000 - accuracy: 0.3823 - val_loss: -86095159296.0000 - val_accuracy: 0.4261\n",
      "Epoch 6/100\n",
      "18/19 [===========================>..] - ETA: 0s - loss: -494017478656.0000 - accuracy: 0.3828\n",
      "Epoch 6: val_loss improved from -86095159296.00000 to -965291933696.00000, saving model to recommender_system.h5\n",
      "19/19 [==============================] - 0s 21ms/step - loss: -511093833728.0000 - accuracy: 0.3823 - val_loss: -965291933696.0000 - val_accuracy: 0.4261\n",
      "Epoch 7/100\n",
      "18/19 [===========================>..] - ETA: 0s - loss: -4374798794752.0000 - accuracy: 0.3811\n",
      "Epoch 7: val_loss improved from -965291933696.00000 to -7589448908800.00000, saving model to recommender_system.h5\n",
      "19/19 [==============================] - 0s 20ms/step - loss: -4441478529024.0000 - accuracy: 0.3823 - val_loss: -7589448908800.0000 - val_accuracy: 0.4261\n",
      "Epoch 8/100\n",
      "18/19 [===========================>..] - ETA: 0s - loss: -33122120892416.0000 - accuracy: 0.3802\n",
      "Epoch 8: val_loss improved from -7589448908800.00000 to -48376221532160.00000, saving model to recommender_system.h5\n",
      "19/19 [==============================] - 0s 21ms/step - loss: -33299120521216.0000 - accuracy: 0.3823 - val_loss: -48376221532160.0000 - val_accuracy: 0.4261\n",
      "Epoch 9/100\n",
      "19/19 [==============================] - ETA: 0s - loss: -184807661240320.0000 - accuracy: 0.3823\n",
      "Epoch 9: val_loss improved from -48376221532160.00000 to -251012031971328.00000, saving model to recommender_system.h5\n",
      "19/19 [==============================] - 0s 19ms/step - loss: -184807661240320.0000 - accuracy: 0.3823 - val_loss: -251012031971328.0000 - val_accuracy: 0.4261\n",
      "Epoch 10/100\n",
      "14/19 [=====================>........] - ETA: 0s - loss: -699185376526336.0000 - accuracy: 0.3895\n",
      "Epoch 10: val_loss improved from -251012031971328.00000 to -1100408739069952.00000, saving model to recommender_system.h5\n",
      "19/19 [==============================] - 0s 17ms/step - loss: -835508980678656.0000 - accuracy: 0.3823 - val_loss: -1100408739069952.0000 - val_accuracy: 0.4261\n",
      "Epoch 11/100\n",
      "14/19 [=====================>........] - ETA: 0s - loss: -2888709372379136.0000 - accuracy: 0.3828\n",
      "Epoch 11: val_loss improved from -1100408739069952.00000 to -4161850690240512.00000, saving model to recommender_system.h5\n",
      "19/19 [==============================] - 0s 17ms/step - loss: -3383045612634112.0000 - accuracy: 0.3823 - val_loss: -4161850690240512.0000 - val_accuracy: 0.4261\n",
      "Epoch 12/100\n",
      "18/19 [===========================>..] - ETA: 0s - loss: -12101287252328448.0000 - accuracy: 0.3802\n",
      "Epoch 12: val_loss improved from -4161850690240512.00000 to -14116999156203520.00000, saving model to recommender_system.h5\n",
      "19/19 [==============================] - 0s 24ms/step - loss: -12200467710869504.0000 - accuracy: 0.3823 - val_loss: -14116999156203520.0000 - val_accuracy: 0.4261\n",
      "Epoch 13/100\n",
      "14/19 [=====================>........] - ETA: 0s - loss: -31906689271726080.0000 - accuracy: 0.3929\n",
      "Epoch 13: val_loss improved from -14116999156203520.00000 to -42879239791312896.00000, saving model to recommender_system.h5\n",
      "19/19 [==============================] - 0s 18ms/step - loss: -38655517412818944.0000 - accuracy: 0.3823 - val_loss: -42879239791312896.0000 - val_accuracy: 0.4261\n",
      "Epoch 14/100\n",
      "18/19 [===========================>..] - ETA: 0s - loss: -111736254265032704.0000 - accuracy: 0.3802\n",
      "Epoch 14: val_loss improved from -42879239791312896.00000 to -117915707181629440.00000, saving model to recommender_system.h5\n",
      "19/19 [==============================] - 0s 19ms/step - loss: -111820856530829312.0000 - accuracy: 0.3823 - val_loss: -117915707181629440.0000 - val_accuracy: 0.4261\n",
      "Epoch 15/100\n",
      "19/19 [==============================] - ETA: 0s - loss: -292494728920825856.0000 - accuracy: 0.3823\n",
      "Epoch 15: val_loss improved from -117915707181629440.00000 to -301957366507634688.00000, saving model to recommender_system.h5\n",
      "19/19 [==============================] - 0s 18ms/step - loss: -292494728920825856.0000 - accuracy: 0.3823 - val_loss: -301957366507634688.0000 - val_accuracy: 0.4261\n",
      "Epoch 16/100\n",
      "14/19 [=====================>........] - ETA: 0s - loss: -650038833483612160.0000 - accuracy: 0.3728\n",
      "Epoch 16: val_loss improved from -301957366507634688.00000 to -722770909185703936.00000, saving model to recommender_system.h5\n",
      "19/19 [==============================] - 0s 26ms/step - loss: -722265614873264128.0000 - accuracy: 0.3823 - val_loss: -722770909185703936.0000 - val_accuracy: 0.4261\n",
      "Epoch 17/100\n",
      "18/19 [===========================>..] - ETA: 0s - loss: -1673155981044875264.0000 - accuracy: 0.3837\n",
      "Epoch 17: val_loss improved from -722770909185703936.00000 to -1639451001851215872.00000, saving model to recommender_system.h5\n",
      "19/19 [==============================] - 0s 18ms/step - loss: -1688218878028546048.0000 - accuracy: 0.3823 - val_loss: -1639451001851215872.0000 - val_accuracy: 0.4261\n",
      "Epoch 18/100\n",
      "15/19 [======================>.......] - ETA: 0s - loss: -3458409921320583168.0000 - accuracy: 0.4031\n",
      "Epoch 18: val_loss improved from -1639451001851215872.00000 to -3531374062695612416.00000, saving model to recommender_system.h5\n",
      "19/19 [==============================] - 0s 17ms/step - loss: -3770717952853147648.0000 - accuracy: 0.3823 - val_loss: -3531374062695612416.0000 - val_accuracy: 0.4261\n",
      "Epoch 19/100\n",
      "18/19 [===========================>..] - ETA: 0s - loss: -7817688202185015296.0000 - accuracy: 0.3819\n",
      "Epoch 19: val_loss improved from -3531374062695612416.00000 to -7225072875290492928.00000, saving model to recommender_system.h5\n",
      "19/19 [==============================] - 0s 20ms/step - loss: -7868250343899922432.0000 - accuracy: 0.3823 - val_loss: -7225072875290492928.0000 - val_accuracy: 0.4261\n",
      "Epoch 20/100\n",
      "13/19 [===================>..........] - ETA: 0s - loss: -13961004913220648960.0000 - accuracy: 0.3690\n",
      "Epoch 20: val_loss improved from -7225072875290492928.00000 to -14201453812564099072.00000, saving model to recommender_system.h5\n",
      "19/19 [==============================] - 0s 19ms/step - loss: -15684457503922323456.0000 - accuracy: 0.3823 - val_loss: -14201453812564099072.0000 - val_accuracy: 0.4261\n",
      "Epoch 21/100\n",
      "18/19 [===========================>..] - ETA: 0s - loss: -30115421174645129216.0000 - accuracy: 0.3819\n",
      "Epoch 21: val_loss improved from -14201453812564099072.00000 to -26798291350668181504.00000, saving model to recommender_system.h5\n",
      "19/19 [==============================] - 0s 26ms/step - loss: -30107889519994863616.0000 - accuracy: 0.3823 - val_loss: -26798291350668181504.0000 - val_accuracy: 0.4261\n",
      "Epoch 22/100\n",
      "18/19 [===========================>..] - ETA: 0s - loss: -55419744504002904064.0000 - accuracy: 0.3811\n",
      "Epoch 22: val_loss improved from -26798291350668181504.00000 to -48475580906690576384.00000, saving model to recommender_system.h5\n",
      "19/19 [==============================] - 0s 19ms/step - loss: -55469763486973689856.0000 - accuracy: 0.3823 - val_loss: -48475580906690576384.0000 - val_accuracy: 0.4261\n",
      "Epoch 23/100\n",
      "14/19 [=====================>........] - ETA: 0s - loss: -91601809045832335360.0000 - accuracy: 0.4018\n",
      "Epoch 23: val_loss improved from -48475580906690576384.00000 to -85242673595427061760.00000, saving model to recommender_system.h5\n",
      "19/19 [==============================] - 0s 18ms/step - loss: -98932640096307904512.0000 - accuracy: 0.3823 - val_loss: -85242673595427061760.0000 - val_accuracy: 0.4261\n",
      "Epoch 24/100\n",
      "16/19 [========================>.....] - ETA: 0s - loss: -161773327225752387584.0000 - accuracy: 0.3838\n",
      "Epoch 24: val_loss improved from -85242673595427061760.00000 to -145873650216297562112.00000, saving model to recommender_system.h5\n",
      "19/19 [==============================] - 0s 19ms/step - loss: -173061230255849603072.0000 - accuracy: 0.3823 - val_loss: -145873650216297562112.0000 - val_accuracy: 0.4261\n",
      "Epoch 25/100\n",
      "17/19 [=========================>....] - ETA: 0s - loss: -283076235076604788736.0000 - accuracy: 0.3778\n",
      "Epoch 25: val_loss improved from -145873650216297562112.00000 to -243397903878354632704.00000, saving model to recommender_system.h5\n",
      "19/19 [==============================] - 0s 20ms/step - loss: -292708168042155081728.0000 - accuracy: 0.3823 - val_loss: -243397903878354632704.0000 - val_accuracy: 0.4261\n",
      "Epoch 26/100\n",
      "13/19 [===================>..........] - ETA: 0s - loss: -445760837539457925120.0000 - accuracy: 0.3786\n",
      "Epoch 26: val_loss improved from -243397903878354632704.00000 to -397463988844932104192.00000, saving model to recommender_system.h5\n",
      "19/19 [==============================] - 0s 18ms/step - loss: -479329050680761516032.0000 - accuracy: 0.3823 - val_loss: -397463988844932104192.0000 - val_accuracy: 0.4261\n",
      "Epoch 27/100\n",
      "19/19 [==============================] - ETA: 0s - loss: -766538552276315799552.0000 - accuracy: 0.3823\n",
      "Epoch 27: val_loss improved from -397463988844932104192.00000 to -625372236793969115136.00000, saving model to recommender_system.h5\n",
      "19/19 [==============================] - 1s 31ms/step - loss: -766538552276315799552.0000 - accuracy: 0.3823 - val_loss: -625372236793969115136.0000 - val_accuracy: 0.4261\n",
      "Epoch 28/100\n",
      "19/19 [==============================] - ETA: 0s - loss: -1207784214529986002944.0000 - accuracy: 0.3823\n",
      "Epoch 28: val_loss improved from -625372236793969115136.00000 to -966734533237026062336.00000, saving model to recommender_system.h5\n",
      "19/19 [==============================] - 0s 22ms/step - loss: -1207784214529986002944.0000 - accuracy: 0.3823 - val_loss: -966734533237026062336.0000 - val_accuracy: 0.4261\n",
      "Epoch 29/100\n",
      "14/19 [=====================>........] - ETA: 0s - loss: nan - accuracy: 0.3951                         \n",
      "Epoch 29: val_loss did not improve from -966734533237026062336.00000\n",
      "19/19 [==============================] - 0s 19ms/step - loss: nan - accuracy: 0.3823 - val_loss: nan - val_accuracy: 0.4261\n",
      "Epoch 30/100\n",
      "18/19 [===========================>..] - ETA: 0s - loss: nan - accuracy: 0.3845\n",
      "Epoch 30: val_loss did not improve from -966734533237026062336.00000\n",
      "19/19 [==============================] - 0s 16ms/step - loss: nan - accuracy: 0.3823 - val_loss: nan - val_accuracy: 0.4261\n",
      "Epoch 31/100\n",
      "18/19 [===========================>..] - ETA: 0s - loss: nan - accuracy: 0.3819\n",
      "Epoch 31: val_loss did not improve from -966734533237026062336.00000\n",
      "19/19 [==============================] - 0s 14ms/step - loss: nan - accuracy: 0.3823 - val_loss: nan - val_accuracy: 0.4261\n",
      "Epoch 32/100\n",
      "17/19 [=========================>....] - ETA: 0s - loss: nan - accuracy: 0.3778\n",
      "Epoch 32: val_loss did not improve from -966734533237026062336.00000\n",
      "19/19 [==============================] - 0s 14ms/step - loss: nan - accuracy: 0.3823 - val_loss: nan - val_accuracy: 0.4261\n",
      "Epoch 33/100\n",
      "12/19 [=================>............] - ETA: 0s - loss: nan - accuracy: 0.3581\n",
      "Epoch 33: val_loss did not improve from -966734533237026062336.00000\n",
      "19/19 [==============================] - 0s 14ms/step - loss: nan - accuracy: 0.3823 - val_loss: nan - val_accuracy: 0.4261\n",
      "Epoch 34/100\n",
      "13/19 [===================>..........] - ETA: 0s - loss: nan - accuracy: 0.3858\n",
      "Epoch 34: val_loss did not improve from -966734533237026062336.00000\n",
      "19/19 [==============================] - 0s 13ms/step - loss: nan - accuracy: 0.3823 - val_loss: nan - val_accuracy: 0.4261\n",
      "Epoch 35/100\n",
      "12/19 [=================>............] - ETA: 0s - loss: nan - accuracy: 0.3984\n",
      "Epoch 35: val_loss did not improve from -966734533237026062336.00000\n",
      "19/19 [==============================] - 0s 13ms/step - loss: nan - accuracy: 0.3823 - val_loss: nan - val_accuracy: 0.4261\n",
      "Epoch 36/100\n",
      "14/19 [=====================>........] - ETA: 0s - loss: nan - accuracy: 0.3984\n",
      "Epoch 36: val_loss did not improve from -966734533237026062336.00000\n",
      "19/19 [==============================] - 0s 15ms/step - loss: nan - accuracy: 0.3823 - val_loss: nan - val_accuracy: 0.4261\n",
      "Epoch 37/100\n",
      "19/19 [==============================] - ETA: 0s - loss: nan - accuracy: 0.3823\n",
      "Epoch 37: val_loss did not improve from -966734533237026062336.00000\n",
      "19/19 [==============================] - 0s 15ms/step - loss: nan - accuracy: 0.3823 - val_loss: nan - val_accuracy: 0.4261\n",
      "Epoch 38/100\n",
      "19/19 [==============================] - ETA: 0s - loss: nan - accuracy: 0.3823\n",
      "Epoch 38: val_loss did not improve from -966734533237026062336.00000\n",
      "19/19 [==============================] - 0s 14ms/step - loss: nan - accuracy: 0.3823 - val_loss: nan - val_accuracy: 0.4261\n",
      "Epoch 38: early stopping\n"
     ]
    }
   ],
   "source": [
    "num_epochs = 100\n",
    "batch_size = 64\n",
    "\n",
    "history = autoencoder.fit(\n",
    "    train_padded,\n",
    "    train_padded,\n",
    "    epochs=num_epochs,\n",
    "    batch_size=batch_size,\n",
    "    validation_data=(testing_padded, testing_padded),\n",
    "    callbacks=[checkpoint, early_stopping]\n",
    ")"
   ]
  },
  {
   "cell_type": "code",
   "execution_count": null,
   "metadata": {},
   "outputs": [],
   "source": []
  }
 ],
 "metadata": {
  "kernelspec": {
   "display_name": "Python 3",
   "language": "python",
   "name": "python3"
  },
  "language_info": {
   "codemirror_mode": {
    "name": "ipython",
    "version": 3
   },
   "file_extension": ".py",
   "mimetype": "text/x-python",
   "name": "python",
   "nbconvert_exporter": "python",
   "pygments_lexer": "ipython3",
   "version": "3.8.7"
  },
  "orig_nbformat": 4
 },
 "nbformat": 4,
 "nbformat_minor": 2
}
